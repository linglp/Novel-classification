{
 "cells": [
  {
   "cell_type": "code",
   "execution_count": 75,
   "metadata": {},
   "outputs": [],
   "source": [
    "from sklearn.feature_extraction.text import CountVectorizer, TfidfVectorizer\n",
    "from sklearn.naive_bayes import GaussianNB\n",
    "from sklearn.naive_bayes import MultinomialNB, ComplementNB\n",
    "from sklearn.tree import DecisionTreeClassifier\n",
    "from sklearn.ensemble import RandomForestClassifier\n",
    "import matplotlib.pyplot as plt\n",
    "import pandas as pd\n",
    "import numpy as np\n",
    "import seaborn as sns\n",
    "import matplotlib.pylab as plt\n",
    "from sklearn import tree\n",
    "from sklearn.tree import export_graphviz\n",
    "import mglearn\n",
    "from sklearn import metrics\n",
    "from nltk.corpus import stopwords\n",
    "from nltk.tokenize import word_tokenize\n",
    "\n",
    "from sklearn.experimental import enable_halving_search_cv  # noqa\n",
    "from sklearn.model_selection import HalvingGridSearchCV\n",
    "from sklearn.model_selection import RandomizedSearchCV\n"
   ]
  },
  {
   "cell_type": "markdown",
   "metadata": {},
   "source": [
    "### Setup"
   ]
  },
  {
   "cell_type": "code",
   "execution_count": 76,
   "metadata": {},
   "outputs": [],
   "source": [
    "stop_words = set(stopwords.words('english'))"
   ]
  },
  {
   "cell_type": "code",
   "execution_count": 77,
   "metadata": {},
   "outputs": [],
   "source": [
    "def read_text(file_path):\n",
    "    with open(file_path) as f:\n",
    "        contents = f.read()\n",
    "    raw = contents.split('.')\n",
    "        \n",
    "    return raw"
   ]
  },
  {
   "cell_type": "code",
   "execution_count": 78,
   "metadata": {},
   "outputs": [],
   "source": [
    "def read_text2(file_path):\n",
    "    with open(file_path) as f:\n",
    "        contents = f.read()\n",
    "    raw = contents.split('.')\n",
    "    \n",
    "    return raw"
   ]
  },
  {
   "cell_type": "code",
   "execution_count": 79,
   "metadata": {},
   "outputs": [
    {
     "name": "stdout",
     "output_type": "stream",
     "text": [
      "length of tales of two cities: 1210\n",
      "length of King Lear: 228\n",
      "length of training dataset  459\n",
      "length of testing dataset  367\n",
      "length of trianing labels 459\n",
      "length of testing labels 367\n"
     ]
    }
   ],
   "source": [
    "def filter_text(raw, lower_range, upper_range):\n",
    "    filtered_text=[]\n",
    "    signs = [\",\", \"!\", \".\", \":\", \";\", \"?\", \"--\", \"``\", \")\", \"''\", \"'\", \"(\"]\n",
    "    names = [\"GLOUCESTER\", \"KENT\", \"EDMUND\", \"GONERIL\", \"CORDELIA\", \"KING\", \"LEAR\", \"ALBANY\", \"EDGAR\", \"REGAN\", \"OSWALD\"]\n",
    "\n",
    "    for item in raw:\n",
    "        if item:\n",
    "            item_str=item.replace(\"\\n\", \" \")            \n",
    "            word_tokens = word_tokenize(item_str)\n",
    "            filtered_sentence = [w for w in word_tokens if not w.lower() in stop_words and w not in signs and w not in names] # this is just for counting\n",
    "            filtered_sentence_full = [w for w in word_tokens if w not in names]\n",
    "            if len(filtered_sentence) >=lower_range and len(filtered_sentence) < upper_range:\n",
    "                sentence = \" \".join(filtered_sentence_full)\n",
    "                filtered_text.append(sentence)\n",
    "    return filtered_text\n",
    "\n",
    "\n",
    "raw = read_text('A-Tale-of-Two-Cities.txt')\n",
    "\n",
    "filtered_text_tales_cities = filter_text(raw, 10, 15)\n",
    "\n",
    "print(\"length of tales of two cities:\", len(filtered_text_tales_cities))\n",
    "\n",
    "raw = read_text('king_lear.txt')\n",
    "\n",
    "filtered_text_king_lear = filter_text(raw, 10, 15)\n",
    "\n",
    "print(\"length of King Lear:\", len(filtered_text_king_lear))\n",
    "\n",
    "training_data_set1 = filtered_text_tales_cities[:300] + filtered_text_king_lear[:159]\n",
    "testing_data_set1 = filtered_text_tales_cities[301:600] + filtered_text_king_lear[160:]\n",
    "\n",
    "print('length of training dataset ', len(training_data_set1))\n",
    "print('length of testing dataset ', len(testing_data_set1))\n",
    "\n",
    "training_y1 = 300*[1] + 159*[0]\n",
    "print('length of trianing labels', len(training_y1))\n",
    "\n",
    "testing_y1 = 299*[1] + 68*[0]\n",
    "print('length of testing labels', len(testing_y1))\n"
   ]
  },
  {
   "cell_type": "code",
   "execution_count": 80,
   "metadata": {},
   "outputs": [
    {
     "name": "stdout",
     "output_type": "stream",
     "text": [
      "shape of training array: (459, 4723)\n",
      "shape of test array: (367, 4723)\n"
     ]
    }
   ],
   "source": [
    "#vectorizer = CountVectorizer(stop_words=\"english\")\n",
    "vectorizer = TfidfVectorizer(stop_words=\"english\")\n",
    "vectorizer.fit(filtered_text_tales_cities + filtered_text_king_lear)\n",
    "all_words = vectorizer.get_feature_names()\n",
    "X1 = vectorizer.transform(training_data_set1)\n",
    "new_array_train1 = X1.toarray()\n",
    "print(\"shape of training array:\", new_array_train1.shape)\n",
    "\n",
    "\n",
    "\n",
    "X_test1 = vectorizer.transform(testing_data_set1)\n",
    "names_out_test1 = vectorizer.get_feature_names()\n",
    "new_array_test1 = X_test1.toarray()\n",
    "print(\"shape of test array:\", new_array_test1.shape)"
   ]
  },
  {
   "cell_type": "code",
   "execution_count": 81,
   "metadata": {},
   "outputs": [
    {
     "name": "stdout",
     "output_type": "stream",
     "text": [
      "specific array: [0. 0. 0. ... 0. 0. 0.]\n",
      "full sentence: This shows you are above , You justicers , that these our nether crimes So speedily can venge ! But , O poor Gloucester ! Lost he his other eye ? Messenger Both , both , my lord\n",
      "['crimes', 'eye', 'gloucester', 'justicers', 'lord', 'lost', 'messenger', 'nether', 'poor', 'shows', 'speedily', 'venge']\n",
      "    \n",
      "specific array: [0. 0. 0. ... 0. 0. 0.]\n",
      "full sentence: Third Servant Go thou : I 'll fetch some flax and whites of eggs To apply to his bleeding face\n",
      "['apply', 'bleeding', 'eggs', 'face', 'fetch', 'flax', 'll', 'servant', 'thou', 'whites']\n"
     ]
    }
   ],
   "source": [
    "def examine_array_detail(all_words, new_array_train, dataset, index_for_specific_array):\n",
    "    print('specific array:', new_array_train[index_for_specific_array])\n",
    "    print('full sentence:', dataset[index_for_specific_array])\n",
    "    our_map = {i:word for i, word in enumerate(all_words)} # create a dictionary for all the unique words with their position\n",
    "    print(  [ our_map[index] for index, i in enumerate(new_array_train[index_for_specific_array]) if i > 0]  )\n",
    "    \n",
    "    \n",
    "examine_array_detail(all_words, new_array_train1, training_data_set1, -1)\n",
    "\n",
    "print(\"    \")\n",
    "\n",
    "examine_array_detail(all_words, new_array_train1, training_data_set1, -10)"
   ]
  },
  {
   "cell_type": "code",
   "execution_count": 82,
   "metadata": {},
   "outputs": [],
   "source": [
    "def compare_two_lst(lst1, lst2):\n",
    "    lst_index_mislabelled = [index for index, (first, second) in enumerate(zip(lst1, lst2)) if first!=second]        \n",
    "    return lst_index_mislabelled\n",
    "\n",
    "def find_length_of_sentences_mislabel(lst_index_mislabelled, testing_dataset):\n",
    "    lst_dict = []\n",
    "    empty_dict= {}\n",
    "    signs = [\",\", \"!\", \".\", \":\", \";\", \"?\", \"--\", \"``\", \")\", \"''\", \"'\", \"(\"]\n",
    "    for item in lst_index_mislabelled:\n",
    "        sentence = testing_dataset[item]\n",
    "        word_tokens = word_tokenize(sentence)\n",
    "        filtered_sentence = [w for w in word_tokens if not w.lower() in stop_words and w not in signs]  \n",
    "        lst_dict.append({item:len(filtered_sentence)})\n",
    "        \n",
    "    return lst_dict"
   ]
  },
  {
   "cell_type": "markdown",
   "metadata": {},
   "source": [
    "### GaussianNB"
   ]
  },
  {
   "cell_type": "code",
   "execution_count": 83,
   "metadata": {},
   "outputs": [
    {
     "name": "stdout",
     "output_type": "stream",
     "text": [
      "Number of mislabeled points out of a total 367 points : 52\n",
      "list of index [10, 23, 28, 33, 34, 45, 71, 83, 84, 102, 110, 117, 123, 124, 134, 139, 140, 143, 148, 179, 195, 218, 219, 224, 239, 249, 260, 270, 275, 290, 299, 300, 302, 304, 306, 309, 315, 318, 320, 323, 326, 331, 338, 339, 341, 352, 356, 358, 360, 361, 365, 366]\n",
      "length of sentences that got mislabelled (ignore stop words): [{10: 10}, {23: 13}, {28: 11}, {33: 13}, {34: 10}, {45: 12}, {71: 10}, {83: 10}, {84: 14}, {102: 13}, {110: 11}, {117: 12}, {123: 10}, {124: 11}, {134: 10}, {139: 10}, {140: 10}, {143: 10}, {148: 11}, {179: 14}, {195: 10}, {218: 10}, {219: 14}, {224: 12}, {239: 14}, {249: 13}, {260: 10}, {270: 13}, {275: 10}, {290: 12}, {299: 10}, {300: 14}, {302: 10}, {304: 13}, {306: 11}, {309: 13}, {315: 14}, {318: 14}, {320: 11}, {323: 14}, {326: 13}, {331: 14}, {338: 10}, {339: 10}, {341: 12}, {352: 10}, {356: 12}, {358: 10}, {360: 11}, {361: 14}, {365: 13}, {366: 10}]\n"
     ]
    }
   ],
   "source": [
    "# train the model \n",
    "gnb = GaussianNB()\n",
    "model = gnb.fit(new_array_train1, training_y1)\n",
    "\n",
    "\n",
    "# make prediction \n",
    "#y_pred1 = model.predict([new_array_test[0]])\n",
    "#y_pred2 = model.predict([new_array_test[-1]])\n",
    "\n",
    "\n",
    "y_pred = model.predict(new_array_test1)\n",
    "\n",
    "print(\"Number of mislabeled points out of a total %d points : %d\"\n",
    "% (new_array_test1.shape[0], (testing_y1 != y_pred).sum()))\n",
    "\n",
    "\n",
    "lst_index = compare_two_lst(testing_y1, y_pred)\n",
    "print(\"list of index\", lst_index)\n",
    "\n",
    "\n",
    "print(\"length of sentences that got mislabelled (ignore stop words):\", find_length_of_sentences_mislabel(lst_index, testing_data_set1))"
   ]
  },
  {
   "cell_type": "code",
   "execution_count": 84,
   "metadata": {},
   "outputs": [
    {
     "name": "stdout",
     "output_type": "stream",
     "text": [
      "specific array: [0. 0. 0. ... 0. 0. 0.]\n",
      "full sentence: A face of a transparent paleness ; every feature in it clearly defined ; one set expression on it\n",
      "['clearly', 'defined', 'expression', 'face', 'feature', 'paleness', 'set', 'transparent']\n",
      "predicted_label [0]\n"
     ]
    }
   ],
   "source": [
    "examine_array_detail(all_words, new_array_test1, testing_data_set1, 10)\n",
    "y_pred_mis = model.predict([new_array_test1[10]])\n",
    "print('predicted_label', y_pred_mis)"
   ]
  },
  {
   "cell_type": "code",
   "execution_count": 85,
   "metadata": {},
   "outputs": [
    {
     "name": "stdout",
     "output_type": "stream",
     "text": [
      "specific array: [0. 0. 0. ... 0. 0. 0.]\n",
      "full sentence: Patches of poor rye where corn should have been , patches of poor peas and beans , patches of most coarse vegetable substitutes for wheat\n",
      "['beans', 'coarse', 'corn', 'patches', 'peas', 'poor', 'rye', 'substitutes', 'vegetable', 'wheat']\n",
      "predicted_label [0]\n"
     ]
    }
   ],
   "source": [
    "examine_array_detail(all_words, new_array_test1, testing_data_set1,23)\n",
    "y_pred_mis = model.predict([new_array_test1[23]])\n",
    "print('predicted_label', y_pred_mis)"
   ]
  },
  {
   "cell_type": "code",
   "execution_count": 86,
   "metadata": {},
   "outputs": [
    {
     "name": "stdout",
     "output_type": "stream",
     "text": [
      "specific array: [0. 0. 0. ... 0. 0. 0.]\n",
      "full sentence: `` `` May the Devil carry away these idiots ! How do you call the man ? You know all the men of this part of the country\n",
      "['away', 'carry', 'country', 'devil', 'idiots', 'know', 'man', 'men']\n",
      "predicted_label [0]\n"
     ]
    }
   ],
   "source": [
    "examine_array_detail(all_words, new_array_test1, testing_data_set1, 28)\n",
    "y_pred_mis = model.predict([new_array_test1[28]])\n",
    "print('predicted_label', y_pred_mis)"
   ]
  },
  {
   "cell_type": "code",
   "execution_count": 87,
   "metadata": {},
   "outputs": [
    {
     "name": "stdout",
     "output_type": "stream",
     "text": [
      "Accuracy: 0.8583106267029973\n"
     ]
    }
   ],
   "source": [
    "print(\"Accuracy:\",metrics.accuracy_score(testing_y1, y_pred))"
   ]
  },
  {
   "cell_type": "markdown",
   "metadata": {},
   "source": [
    "##### these two sentences have a lot of stop words, such as \"we\", \"before\", \"us\", \"had\""
   ]
  },
  {
   "cell_type": "markdown",
   "metadata": {},
   "source": [
    "### multinomial models\n",
    "\n",
    "#### Naive Bayes classifier for multinomial models.\n",
    "\n",
    "* The multinomial Naive Bayes classifier is suitable for classification with discrete features (e.g., word counts for text classification). The multinomial distribution normally requires integer feature counts. However, in practice, fractional counts such as tf-idf may also work."
   ]
  },
  {
   "cell_type": "code",
   "execution_count": 88,
   "metadata": {},
   "outputs": [
    {
     "name": "stdout",
     "output_type": "stream",
     "text": [
      "Number of mislabeled points out of a total 367 points : 46\n",
      "Accuracy: 0.8746594005449592\n"
     ]
    }
   ],
   "source": [
    "clf = MultinomialNB()\n",
    "clf_model = clf.fit(new_array_train1, training_y1)\n",
    "\n",
    "y_pred_clf = clf_model.predict(new_array_test1)\n",
    "\n",
    "print(\"Number of mislabeled points out of a total %d points : %d\"\n",
    "% (new_array_test1.shape[0], (testing_y1 != y_pred_clf).sum()))\n",
    "\n",
    "print(\"Accuracy:\",metrics.accuracy_score(testing_y1, y_pred_clf))"
   ]
  },
  {
   "cell_type": "code",
   "execution_count": 89,
   "metadata": {},
   "outputs": [],
   "source": [
    "#compare_two_lst(testing_y1, y_pred_clf)"
   ]
  },
  {
   "cell_type": "markdown",
   "metadata": {},
   "source": [
    "### ComplementNB\n",
    "\n",
    "#### Naive Bayes classifier for complement NB\n",
    "* The Complement Naive Bayes classifier was designed to correct the “severe assumptions” made by the standard Multinomial Naive Bayes classifier. It is particularly suited for imbalanced data sets."
   ]
  },
  {
   "cell_type": "code",
   "execution_count": 90,
   "metadata": {},
   "outputs": [
    {
     "name": "stdout",
     "output_type": "stream",
     "text": [
      "Number of mislabeled points out of a total 367 points : 60\n"
     ]
    }
   ],
   "source": [
    "clf_complement = ComplementNB()\n",
    "clf_complement_model = clf_complement.fit(new_array_train1, training_y1)\n",
    "\n",
    "y_pred_clf_complement = clf_complement_model.predict(new_array_test1)\n",
    "\n",
    "print(\"Number of mislabeled points out of a total %d points : %d\"\n",
    "% (new_array_test1.shape[0], (testing_y1 != y_pred_clf_complement).sum()))"
   ]
  },
  {
   "cell_type": "code",
   "execution_count": 91,
   "metadata": {},
   "outputs": [
    {
     "name": "stdout",
     "output_type": "stream",
     "text": [
      "Accuracy: 0.8365122615803815\n"
     ]
    }
   ],
   "source": [
    "print(\"Accuracy:\",metrics.accuracy_score(testing_y1, y_pred_clf_complement))"
   ]
  },
  {
   "cell_type": "markdown",
   "metadata": {},
   "source": [
    "### BernoulliNB\n",
    "\n",
    "* Like MultinomialNB, this classifier is suitable for discrete data. The difference is that while MultinomialNB works with occurrence counts, BernoulliNB is designed for binary/boolean features."
   ]
  },
  {
   "cell_type": "markdown",
   "metadata": {},
   "source": [
    "### Decision Tree\n",
    "*  prediction on a new data point is made by checking which region of the partition of the feature space the point lies in, and then predicting the majority target \n",
    "* decision boundary might focus a lot on single outlier points that are far away from the other points in that class.\n",
    "* There are two common strategies to prevent overfitting: stopping the creation of the tree early (also called pre-pruning), or building the tree but then removing or collaps‐ing nodes that contain little information (also called post-pruning or just pruning).\n"
   ]
  },
  {
   "cell_type": "code",
   "execution_count": 92,
   "metadata": {},
   "outputs": [],
   "source": [
    "tree_one = DecisionTreeClassifier(random_state=0)\n",
    "\n",
    "model = tree_one.fit(new_array_train1, training_y1)\n"
   ]
  },
  {
   "cell_type": "code",
   "execution_count": 93,
   "metadata": {},
   "outputs": [
    {
     "data": {
      "text/plain": [
       "1.0"
      ]
     },
     "execution_count": 93,
     "metadata": {},
     "output_type": "execute_result"
    }
   ],
   "source": [
    "tree_one.score(new_array_train1, training_y1)"
   ]
  },
  {
   "cell_type": "code",
   "execution_count": 94,
   "metadata": {},
   "outputs": [
    {
     "data": {
      "text/plain": [
       "0.8337874659400545"
      ]
     },
     "execution_count": 94,
     "metadata": {},
     "output_type": "execute_result"
    }
   ],
   "source": [
    "tree_one.score(new_array_test1, testing_y1)"
   ]
  },
  {
   "cell_type": "markdown",
   "metadata": {},
   "source": [
    "As expected, the accuracy on the training set is 100%—because the leaves are pure,\n",
    "the tree was grown deep enough that it could perfectly memorize all the labels on the\n",
    "training data. If we don’t restrict the depth of a decision tree, the tree can become arbitrarily deep\n",
    "and complex. Unpruned trees are therefore prone to overfitting and not generalizing\n",
    "well to new data. "
   ]
  },
  {
   "cell_type": "markdown",
   "metadata": {},
   "source": [
    "#### More related to max_feature: \n",
    "* max_depth:  how many \"splits\" the tree does\n",
    "* the next layer will comprise of two sets of data. Each of these sets will be split again, so you can get at max two more features that get split on\n",
    "* So, if we allow it to split 8 times, we can have1+2+4+8+16+32+64+128 features that can be considered, at maximum\n"
   ]
  },
  {
   "cell_type": "code",
   "execution_count": 95,
   "metadata": {},
   "outputs": [
    {
     "data": {
      "text/plain": [
       "DecisionTreeClassifier(max_depth=4, max_features=2, random_state=0)"
      ]
     },
     "execution_count": 95,
     "metadata": {},
     "output_type": "execute_result"
    }
   ],
   "source": [
    "tree_n = DecisionTreeClassifier(max_depth=4, random_state=0, max_features=2) \n",
    "\n",
    "\n",
    "\n",
    "tree_n.fit(new_array_train1, training_y1)\n"
   ]
  },
  {
   "cell_type": "code",
   "execution_count": 96,
   "metadata": {},
   "outputs": [
    {
     "data": {
      "text/plain": [
       "0.6557734204793029"
      ]
     },
     "execution_count": 96,
     "metadata": {},
     "output_type": "execute_result"
    }
   ],
   "source": [
    "tree_n.score(new_array_train1, training_y1)"
   ]
  },
  {
   "cell_type": "code",
   "execution_count": 97,
   "metadata": {},
   "outputs": [
    {
     "data": {
      "text/plain": [
       "0.8119891008174387"
      ]
     },
     "execution_count": 97,
     "metadata": {},
     "output_type": "execute_result"
    }
   ],
   "source": [
    "tree_n.score(new_array_test1, testing_y1)"
   ]
  },
  {
   "cell_type": "markdown",
   "metadata": {},
   "source": [
    "### Examine model complexity and model accuracy"
   ]
  },
  {
   "cell_type": "code",
   "execution_count": 98,
   "metadata": {},
   "outputs": [],
   "source": [
    "def plot_model_complexity(max_depth_range, max_feature_n, new_array_train, training_y, new_array_test, testing_y):\n",
    "    lst_train_score = []\n",
    "    lst_test_score = []\n",
    "    max_depth = []\n",
    "    max_feature= []\n",
    "    \n",
    "    result = []\n",
    "    \n",
    "    for v in range(2, max_depth_range):\n",
    "        for vv in range(2, max_feature_n):\n",
    "            #print(v)\n",
    "            #print(vv)\n",
    "            tree_new = DecisionTreeClassifier(max_depth=v, random_state=0, max_features=vv)\n",
    "            tree_new.fit(new_array_train, training_y)\n",
    "            train_score = tree_new.score(new_array_train, training_y)\n",
    "            test_score = tree_new.score(new_array_test, testing_y)\n",
    "            lst_train_score.append(train_score)\n",
    "            lst_test_score.append(test_score)\n",
    "            max_depth.append(v)\n",
    "            max_feature.append(vv)\n",
    "            \n",
    "            result.append({\"max_depth\":v, \"max_feature\": vv, \"train_score\": train_score, \"test_score\": test_score})\n",
    "    \n",
    "    df = pd.DataFrame(result)\n",
    "    \n",
    "    return df\n",
    "    \n",
    "    \n",
    "    \n"
   ]
  },
  {
   "cell_type": "code",
   "execution_count": 99,
   "metadata": {},
   "outputs": [
    {
     "data": {
      "text/html": [
       "<div>\n",
       "<style scoped>\n",
       "    .dataframe tbody tr th:only-of-type {\n",
       "        vertical-align: middle;\n",
       "    }\n",
       "\n",
       "    .dataframe tbody tr th {\n",
       "        vertical-align: top;\n",
       "    }\n",
       "\n",
       "    .dataframe thead th {\n",
       "        text-align: right;\n",
       "    }\n",
       "</style>\n",
       "<table border=\"1\" class=\"dataframe\">\n",
       "  <thead>\n",
       "    <tr style=\"text-align: right;\">\n",
       "      <th></th>\n",
       "      <th>max_depth</th>\n",
       "      <th>max_feature</th>\n",
       "      <th>train_score</th>\n",
       "      <th>test_score</th>\n",
       "    </tr>\n",
       "  </thead>\n",
       "  <tbody>\n",
       "    <tr>\n",
       "      <th>0</th>\n",
       "      <td>2</td>\n",
       "      <td>2</td>\n",
       "      <td>0.655773</td>\n",
       "      <td>0.811989</td>\n",
       "    </tr>\n",
       "    <tr>\n",
       "      <th>1</th>\n",
       "      <td>3</td>\n",
       "      <td>2</td>\n",
       "      <td>0.655773</td>\n",
       "      <td>0.811989</td>\n",
       "    </tr>\n",
       "    <tr>\n",
       "      <th>2</th>\n",
       "      <td>4</td>\n",
       "      <td>2</td>\n",
       "      <td>0.655773</td>\n",
       "      <td>0.811989</td>\n",
       "    </tr>\n",
       "    <tr>\n",
       "      <th>3</th>\n",
       "      <td>5</td>\n",
       "      <td>2</td>\n",
       "      <td>0.657952</td>\n",
       "      <td>0.809264</td>\n",
       "    </tr>\n",
       "    <tr>\n",
       "      <th>4</th>\n",
       "      <td>6</td>\n",
       "      <td>2</td>\n",
       "      <td>0.657952</td>\n",
       "      <td>0.809264</td>\n",
       "    </tr>\n",
       "    <tr>\n",
       "      <th>5</th>\n",
       "      <td>7</td>\n",
       "      <td>2</td>\n",
       "      <td>0.657952</td>\n",
       "      <td>0.809264</td>\n",
       "    </tr>\n",
       "    <tr>\n",
       "      <th>6</th>\n",
       "      <td>8</td>\n",
       "      <td>2</td>\n",
       "      <td>0.657952</td>\n",
       "      <td>0.809264</td>\n",
       "    </tr>\n",
       "    <tr>\n",
       "      <th>7</th>\n",
       "      <td>9</td>\n",
       "      <td>2</td>\n",
       "      <td>0.657952</td>\n",
       "      <td>0.809264</td>\n",
       "    </tr>\n",
       "    <tr>\n",
       "      <th>8</th>\n",
       "      <td>10</td>\n",
       "      <td>2</td>\n",
       "      <td>0.660131</td>\n",
       "      <td>0.809264</td>\n",
       "    </tr>\n",
       "    <tr>\n",
       "      <th>9</th>\n",
       "      <td>11</td>\n",
       "      <td>2</td>\n",
       "      <td>0.662309</td>\n",
       "      <td>0.809264</td>\n",
       "    </tr>\n",
       "  </tbody>\n",
       "</table>\n",
       "</div>"
      ],
      "text/plain": [
       "   max_depth  max_feature  train_score  test_score\n",
       "0          2            2     0.655773    0.811989\n",
       "1          3            2     0.655773    0.811989\n",
       "2          4            2     0.655773    0.811989\n",
       "3          5            2     0.657952    0.809264\n",
       "4          6            2     0.657952    0.809264\n",
       "5          7            2     0.657952    0.809264\n",
       "6          8            2     0.657952    0.809264\n",
       "7          9            2     0.657952    0.809264\n",
       "8         10            2     0.660131    0.809264\n",
       "9         11            2     0.662309    0.809264"
      ]
     },
     "execution_count": 99,
     "metadata": {},
     "output_type": "execute_result"
    }
   ],
   "source": [
    "df = plot_model_complexity(40, 3, new_array_train1, training_y1, new_array_test1, testing_y1)\n",
    "\n",
    "df.head(10)"
   ]
  },
  {
   "cell_type": "code",
   "execution_count": 100,
   "metadata": {},
   "outputs": [
    {
     "data": {
      "text/plain": [
       "<AxesSubplot:xlabel='max_depth', ylabel='train_score'>"
      ]
     },
     "execution_count": 100,
     "metadata": {},
     "output_type": "execute_result"
    },
    {
     "data": {
      "image/png": "[encoded data removed]",
      "text/plain": [
       "<Figure size 1440x252 with 1 Axes>"
      ]
     },
     "metadata": {},
     "output_type": "display_data"
    }
   ],
   "source": [
    "sns.lineplot(data=df, x='max_depth', y='train_score', marker='o')\n",
    "sns.lineplot(data=df, x='max_depth', y='test_score', marker='o')"
   ]
  },
  {
   "cell_type": "markdown",
   "metadata": {},
   "source": [
    "## Observation: \n",
    "* For the plot above, we could see that training score is way above than testing score, which means that our model has the problem of overfitting. \n",
    "* And also, our max_depth does not increase the accuracy of the model too much\n"
   ]
  },
  {
   "cell_type": "markdown",
   "metadata": {},
   "source": [
    "### Random Forest"
   ]
  },
  {
   "cell_type": "code",
   "execution_count": 101,
   "metadata": {},
   "outputs": [
    {
     "name": "stdout",
     "output_type": "stream",
     "text": [
      "Accuracy on training set: 0.922\n",
      "Accuracy on test set: 0.807\n"
     ]
    }
   ],
   "source": [
    "# if you call this with random_state=0 (or any other value), then each and every time, you'll get the same result.\n",
    "# If int, random_state is the seed used by the random number generator; \n",
    "# \n",
    "\n",
    "forest = RandomForestClassifier(n_estimators=50, n_jobs=-1, class_weight=\"balanced\", min_samples_leaf=4)\n",
    "\n",
    "\n",
    "forest.fit(new_array_train1, training_y1)\n",
    "\n",
    "\n",
    "print(\"Accuracy on training set: {:.3f}\".format(forest.score(new_array_train1, training_y1)))\n",
    "print(\"Accuracy on test set: {:.3f}\".format(forest.score(new_array_test1, testing_y1)))\n",
    "\n",
    "\n",
    "estimator = forest.estimators_[3]"
   ]
  },
  {
   "cell_type": "markdown",
   "metadata": {},
   "source": [
    "#### As you could see, random forest is already doing better than decision tree. And also, we could change some parameters to improve model accuracy"
   ]
  },
  {
   "cell_type": "code",
   "execution_count": 102,
   "metadata": {},
   "outputs": [
    {
     "data": {
      "text/plain": [
       "{'bootstrap': True,\n",
       " 'ccp_alpha': 0.0,\n",
       " 'class_weight': 'balanced',\n",
       " 'criterion': 'gini',\n",
       " 'max_depth': None,\n",
       " 'max_features': 'auto',\n",
       " 'max_leaf_nodes': None,\n",
       " 'max_samples': None,\n",
       " 'min_impurity_decrease': 0.0,\n",
       " 'min_impurity_split': None,\n",
       " 'min_samples_leaf': 4,\n",
       " 'min_samples_split': 2,\n",
       " 'min_weight_fraction_leaf': 0.0,\n",
       " 'n_estimators': 50,\n",
       " 'n_jobs': -1,\n",
       " 'oob_score': False,\n",
       " 'random_state': None,\n",
       " 'verbose': 0,\n",
       " 'warm_start': False}"
      ]
     },
     "execution_count": 102,
     "metadata": {},
     "output_type": "execute_result"
    }
   ],
   "source": [
    "forest.get_params()"
   ]
  },
  {
   "cell_type": "code",
   "execution_count": 103,
   "metadata": {},
   "outputs": [],
   "source": [
    "#### Create the random grid\n",
    "\n",
    "# Number of trees in random forest\n",
    "n_estimators = [int(x) for x in np.linspace(start = 20, stop = 200, num = 10)]\n",
    "# Number of features to consider at every split\n",
    "max_features = ['auto', 'sqrt']\n",
    "# # Maximum number of levels in tree\n",
    "max_depth = [int(x) for x in np.linspace(5, 110, num = 11)]\n",
    "# max_depth.append(None)\n",
    "# Minimum number of samples required to split a node\n",
    "min_samples_split = [2, 4, 8, 10]\n",
    "# Minimum number of samples required at each leaf node\n",
    "min_samples_leaf = [1, 2, 5]\n",
    "# Method of selecting samples for training each tree\n",
    "bootstrap = [True, False]\n",
    "\n",
    "random_grid = {'n_estimators': n_estimators,\n",
    "               'max_features': max_features,\n",
    "               'max_depth': max_depth,\n",
    "               'min_samples_split': min_samples_split,\n",
    "               'min_samples_leaf': min_samples_leaf,\n",
    "               'bootstrap': bootstrap}"
   ]
  },
  {
   "cell_type": "code",
   "execution_count": 104,
   "metadata": {},
   "outputs": [],
   "source": [
    "# search across 100 different combinations, and use all available cores\n",
    "\n",
    "# Explanation of the parameters based on sklearn documentation: \n",
    "# n_iter: Number of parameter settings that are sampled. n_iter trades off runtime vs quality of the solution.\n",
    "# cv: Determines the cross-validation splitting strategy.If we have 10 sets of hyperparameters and are using 5-Fold CV, that represents 50 training loops\n",
    "# verbose: Controls the verbosity: the higher, the more messages.\n",
    "\n",
    "\n",
    "rf_random = RandomizedSearchCV(estimator = forest, param_distributions = random_grid, \n",
    "                               n_iter = 100, cv = 3, verbose=2, n_jobs = -1)"
   ]
  },
  {
   "cell_type": "code",
   "execution_count": 105,
   "metadata": {},
   "outputs": [
    {
     "name": "stdout",
     "output_type": "stream",
     "text": [
      "Fitting 3 folds for each of 100 candidates, totalling 300 fits\n"
     ]
    },
    {
     "data": {
      "text/plain": [
       "RandomizedSearchCV(cv=3,\n",
       "                   estimator=RandomForestClassifier(class_weight='balanced',\n",
       "                                                    min_samples_leaf=4,\n",
       "                                                    n_estimators=50,\n",
       "                                                    n_jobs=-1),\n",
       "                   n_iter=100, n_jobs=-1,\n",
       "                   param_distributions={'bootstrap': [True, False],\n",
       "                                        'max_depth': [5, 15, 26, 36, 47, 57, 68,\n",
       "                                                      78, 89, 99, 110],\n",
       "                                        'max_features': ['auto', 'sqrt'],\n",
       "                                        'min_samples_leaf': [1, 2, 5],\n",
       "                                        'min_samples_split': [2, 4, 8, 10],\n",
       "                                        'n_estimators': [20, 40, 60, 80, 100,\n",
       "                                                         120, 140, 160, 180,\n",
       "                                                         200]},\n",
       "                   verbose=2)"
      ]
     },
     "execution_count": 105,
     "metadata": {},
     "output_type": "execute_result"
    }
   ],
   "source": [
    "rf_random.fit(new_array_train1, training_y1)"
   ]
  },
  {
   "cell_type": "code",
   "execution_count": 106,
   "metadata": {},
   "outputs": [
    {
     "data": {
      "text/plain": [
       "{'n_estimators': 180,\n",
       " 'min_samples_split': 8,\n",
       " 'min_samples_leaf': 2,\n",
       " 'max_features': 'sqrt',\n",
       " 'max_depth': 36,\n",
       " 'bootstrap': False}"
      ]
     },
     "execution_count": 106,
     "metadata": {},
     "output_type": "execute_result"
    }
   ],
   "source": [
    "rf_random.best_params_"
   ]
  },
  {
   "cell_type": "code",
   "execution_count": 107,
   "metadata": {},
   "outputs": [
    {
     "data": {
      "text/plain": [
       "RandomForestClassifier(bootstrap=False, class_weight='balanced', max_depth=36,\n",
       "                       max_features='sqrt', min_samples_leaf=2,\n",
       "                       min_samples_split=8, n_estimators=180, n_jobs=-1)"
      ]
     },
     "execution_count": 107,
     "metadata": {},
     "output_type": "execute_result"
    }
   ],
   "source": [
    "rf_random.best_estimator_"
   ]
  },
  {
   "cell_type": "markdown",
   "metadata": {},
   "source": [
    "#### use the best params"
   ]
  },
  {
   "cell_type": "code",
   "execution_count": 108,
   "metadata": {},
   "outputs": [],
   "source": [
    "random_forest_n2 = RandomForestClassifier(bootstrap=False, class_weight='balanced', max_depth=78,\n",
    "                       min_samples_leaf=2, min_samples_split=8, n_estimators=80,\n",
    "                       n_jobs=-1)\n",
    "random_forest_n2.fit(new_array_train1, training_y1)\n",
    "Y_pred_v2 = random_forest_n2.predict(new_array_test1)"
   ]
  },
  {
   "cell_type": "code",
   "execution_count": 72,
   "metadata": {},
   "outputs": [
    {
     "name": "stdout",
     "output_type": "stream",
     "text": [
      "training score: 0.9891067538126361\n",
      "testing score: 0.896457765667575\n"
     ]
    }
   ],
   "source": [
    "print(\"training score:\", random_forest_n2.score(new_array_train1, training_y1))\n",
    "print(\"testing score:\", random_forest_n2.score(new_array_test1, testing_y1))"
   ]
  },
  {
   "cell_type": "markdown",
   "metadata": {},
   "source": [
    "#### We could see here that the testing score got improved from 87 to 88. "
   ]
  },
  {
   "cell_type": "markdown",
   "metadata": {},
   "source": [
    "### Plotting feature importance"
   ]
  },
  {
   "cell_type": "code",
   "execution_count": 73,
   "metadata": {},
   "outputs": [
    {
     "name": "stdout",
     "output_type": "stream",
     "text": [
      "['cornwall', 'fool', 'let', 'lord', 'prisoner', 'said', 'thou', 'thy']\n"
     ]
    },
    {
     "data": {
      "image/png": "[encoded data removed]",
      "text/plain": [
       "<Figure size 1440x252 with 1 Axes>"
      ]
     },
     "metadata": {
      "needs_background": "light"
     },
     "output_type": "display_data"
    }
   ],
   "source": [
    "bs_forest = RandomForestClassifier(bootstrap=False, class_weight='balanced', max_depth=26,\n",
    "                       min_samples_split=4, n_estimators=40, n_jobs=-1)\n",
    "\n",
    "bs_forest.fit(new_array_train1, training_y1)\n",
    "\n",
    "\n",
    "new_lst = [{index: i} for index, i in enumerate(bs_forest.feature_importances_) if i > 0]\n",
    "\n",
    "def plot_feature_importance(tree):\n",
    "    feature_importance_lst = [{index: i} for index, i in enumerate(tree.feature_importances_) if i > 0.02]\n",
    "    keys = []\n",
    "    vals = []\n",
    "    words=[]\n",
    "    for d in feature_importance_lst:\n",
    "        for k, v in d.items():\n",
    "            keys.append(k)\n",
    "            vals.append(v)\n",
    "    for item in keys:\n",
    "        words.append(all_words[item])\n",
    "        \n",
    "    print(words)\n",
    "        \n",
    "    plt.rcParams[\"figure.figsize\"] = [20, 3.50]\n",
    "    b = sns.barplot(x=words, y=vals, palette=\"Paired\")\n",
    "    sns.set(font_scale = 2.5)\n",
    "    b.set_xlabel('Words', fontsize=20)\n",
    "    b.set_ylabel('feature importance', fontsize=20)\n",
    "    plt.xticks(rotation=90)\n",
    "    \n",
    "plot_feature_importance(bs_forest)"
   ]
  },
  {
   "cell_type": "markdown",
   "metadata": {},
   "source": [
    "#### Observation: \n",
    "* \"Manner\" and \"London\" appear frequently in Tales of two cities. "
   ]
  },
  {
   "cell_type": "code",
   "execution_count": 74,
   "metadata": {},
   "outputs": [
    {
     "data": {
      "image/png": "[encoded data removed]",
      "text/plain": [
       "<Figure size 1440x252 with 1 Axes>"
      ]
     },
     "metadata": {},
     "output_type": "display_data"
    }
   ],
   "source": [
    "plt.figure()\n",
    "plt.figsize=(40,10)\n",
    "tree.plot_tree(bs_forest.estimators_[3], filled=True, class_names=[\"C.D.\", 'S'])\n",
    "plt.show()"
   ]
  },
  {
   "cell_type": "markdown",
   "metadata": {},
   "source": [
    "### Questions: \n",
    "* even if I change max_feature parameter, I noticed that the words that have feature relevance > 0 are still the same. Why?\n",
    "* Based on the tree that I printed out, it seems like decision tree could not classify words efficiently. Is that so? Is there anything that I could do to make the model better?\n",
    "\n",
    "\n"
   ]
  },
  {
   "cell_type": "code",
   "execution_count": null,
   "metadata": {},
   "outputs": [],
   "source": []
  }
 ],
 "metadata": {
  "kernelspec": {
   "display_name": "PyCharm (machine learning)",
   "language": "python",
   "name": "pycharm-2fbece48"
  },
  "language_info": {
   "codemirror_mode": {
    "name": "ipython",
    "version": 3
   },
   "file_extension": ".py",
   "mimetype": "text/x-python",
   "name": "python",
   "nbconvert_exporter": "python",
   "pygments_lexer": "ipython3",
   "version": "3.7.8"
  }
 },
 "nbformat": 4,
 "nbformat_minor": 1
}
